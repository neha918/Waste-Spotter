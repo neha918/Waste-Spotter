{
 "cells": [
  {
   "cell_type": "code",
   "execution_count": 1,
   "metadata": {},
   "outputs": [
    {
     "name": "stderr",
     "output_type": "stream",
     "text": [
      "Using TensorFlow backend.\n"
     ]
    }
   ],
   "source": [
    "from keras.preprocessing.image import ImageDataGenerator\n",
    "from tensorflow.keras.models import Sequential\n",
    "from tensorflow.keras.layers import Conv2D, MaxPooling2D\n",
    "from tensorflow.keras.layers import Activation, Dropout, Flatten, Dense\n",
    "from tensorflow.keras import backend as K"
   ]
  },
  {
   "cell_type": "code",
   "execution_count": 2,
   "metadata": {},
   "outputs": [],
   "source": [
    "img_width, img_height = 320, 240"
   ]
  },
  {
   "cell_type": "code",
   "execution_count": 3,
   "metadata": {},
   "outputs": [],
   "source": [
    "train_dir = 'TRAIN'\n",
    "validation_dir = 'TEST'\n",
    "model = Sequential()"
   ]
  },
  {
   "cell_type": "code",
   "execution_count": 4,
   "metadata": {},
   "outputs": [],
   "source": [
    "if K.image_data_format() == 'channels_first':\n",
    "    input_shape = (3, img_width, img_height)\n",
    "else:\n",
    "    input_shape = (img_width, img_height, 3)"
   ]
  },
  {
   "cell_type": "code",
   "execution_count": 5,
   "metadata": {},
   "outputs": [],
   "source": [
    "model = Sequential()\n",
    "model.add(Conv2D(32, (3, 3), input_shape=input_shape))\n",
    "model.add(Activation('relu'))\n",
    "model.add(MaxPooling2D(pool_size=(2, 2)))\n",
    "\n",
    "model.add(Conv2D(32, (3, 3)))\n",
    "model.add(Activation('relu'))\n",
    "model.add(MaxPooling2D(pool_size=(2, 2)))\n",
    "\n",
    "model.add(Conv2D(64, (3, 3)))\n",
    "model.add(Activation('relu'))\n",
    "model.add(MaxPooling2D(pool_size=(2, 2)))\n",
    "\n",
    "model.add(Flatten())\n",
    "model.add(Dense(64))\n",
    "model.add(Activation('relu'))\n",
    "model.add(Dropout(0.5))\n",
    "model.add(Dense(3))\n",
    "model.add(Activation('sigmoid'))"
   ]
  },
  {
   "cell_type": "code",
   "execution_count": 6,
   "metadata": {},
   "outputs": [],
   "source": [
    "model.compile(loss='categorical_crossentropy',\n",
    "              optimizer='rmsprop',\n",
    "              metrics=['accuracy'])"
   ]
  },
  {
   "cell_type": "code",
   "execution_count": 13,
   "metadata": {},
   "outputs": [
    {
     "name": "stdout",
     "output_type": "stream",
     "text": [
      "Found 2092 images belonging to 3 classes.\n",
      "Found 850 images belonging to 3 classes.\n"
     ]
    }
   ],
   "source": [
    "epochs = 15\n",
    "batch_size = 20\n",
    "train_datagen = ImageDataGenerator (\n",
    "    rescale=1. / 255,\n",
    "    shear_range=0.2,\n",
    "    zoom_range=0.2,\n",
    "    horizontal_flip=True)\n",
    "\n",
    "# this is the augmentation configuration we will use for testing:\n",
    "# only rescaling\n",
    "test_datagen = ImageDataGenerator(rescale=1. / 255)\n",
    "\n",
    "train_generator = train_datagen.flow_from_directory(\n",
    "    train_dir,\n",
    "    target_size=(img_width, img_height),\n",
    "    batch_size=batch_size,\n",
    "    class_mode='categorical')\n",
    "\n",
    "validation_generator = test_datagen.flow_from_directory(\n",
    "    validation_dir,\n",
    "    target_size=(img_width, img_height),\n",
    "    batch_size=batch_size,\n",
    "    class_mode='categorical')"
   ]
  },
  {
   "cell_type": "code",
   "execution_count": 14,
   "metadata": {},
   "outputs": [
    {
     "name": "stdout",
     "output_type": "stream",
     "text": [
      "{'1': 0, '2': 1, '3': 2}\n"
     ]
    }
   ],
   "source": [
    "print (train_generator.class_indices)"
   ]
  },
  {
   "cell_type": "code",
   "execution_count": 15,
   "metadata": {},
   "outputs": [
    {
     "name": "stdout",
     "output_type": "stream",
     "text": [
      "Epoch 1/15\n",
      "192/192 [==============================] - 821s 4s/step - loss: 0.8326 - accuracy: 0.6423 - val_loss: 1.4299 - val_accuracy: 0.5200\n",
      "Epoch 2/15\n",
      "192/192 [==============================] - 812s 4s/step - loss: 0.8348 - accuracy: 0.6355 - val_loss: 1.3239 - val_accuracy: 0.4800\n",
      "Epoch 3/15\n",
      "192/192 [==============================] - 815s 4s/step - loss: 0.8206 - accuracy: 0.6391 - val_loss: 1.4690 - val_accuracy: 0.5000\n",
      "Epoch 4/15\n",
      "192/192 [==============================] - 800s 4s/step - loss: 0.8291 - accuracy: 0.6305 - val_loss: 1.9889 - val_accuracy: 0.3800\n",
      "Epoch 5/15\n",
      "192/192 [==============================] - 813s 4s/step - loss: 0.8154 - accuracy: 0.6451 - val_loss: 1.9215 - val_accuracy: 0.5100\n",
      "Epoch 6/15\n",
      "192/192 [==============================] - 820s 4s/step - loss: 0.8205 - accuracy: 0.6467 - val_loss: 1.9859 - val_accuracy: 0.4400\n",
      "Epoch 7/15\n",
      "192/192 [==============================] - 811s 4s/step - loss: 0.8326 - accuracy: 0.6472 - val_loss: 1.3111 - val_accuracy: 0.5500\n",
      "Epoch 8/15\n",
      "192/192 [==============================] - 803s 4s/step - loss: 0.8118 - accuracy: 0.6396 - val_loss: 1.9585 - val_accuracy: 0.4700\n",
      "Epoch 9/15\n",
      "192/192 [==============================] - 775s 4s/step - loss: 0.8155 - accuracy: 0.6457 - val_loss: 1.7115 - val_accuracy: 0.4500\n",
      "Epoch 10/15\n",
      "192/192 [==============================] - 594s 3s/step - loss: 0.8017 - accuracy: 0.6654 - val_loss: 1.7163 - val_accuracy: 0.5000\n",
      "Epoch 11/15\n",
      "192/192 [==============================] - 603s 3s/step - loss: 0.8050 - accuracy: 0.6566 - val_loss: 1.9335 - val_accuracy: 0.4700\n",
      "Epoch 12/15\n",
      "192/192 [==============================] - 601s 3s/step - loss: 0.7810 - accuracy: 0.6658 - val_loss: 2.0801 - val_accuracy: 0.4000\n",
      "Epoch 13/15\n",
      "192/192 [==============================] - 681s 4s/step - loss: 0.7843 - accuracy: 0.6558 - val_loss: 2.4490 - val_accuracy: 0.4600\n",
      "Epoch 14/15\n",
      "192/192 [==============================] - 681s 4s/step - loss: 0.7923 - accuracy: 0.6637 - val_loss: 1.4504 - val_accuracy: 0.5100\n",
      "Epoch 15/15\n",
      "192/192 [==============================] - 613s 3s/step - loss: 0.7708 - accuracy: 0.6668 - val_loss: 1.7218 - val_accuracy: 0.5400\n"
     ]
    },
    {
     "data": {
      "text/plain": [
       "<tensorflow.python.keras.callbacks.History at 0x215844db108>"
      ]
     },
     "execution_count": 15,
     "metadata": {},
     "output_type": "execute_result"
    }
   ],
   "source": [
    "nb_train_samples = 3841  #total\n",
    "nb_validation_samples = 2315\n",
    "# Train the model\n",
    "model.fit_generator(\n",
    "    train_generator,\n",
    "    steps_per_epoch=nb_train_samples // batch_size,\n",
    "    epochs=epochs,\n",
    "    validation_data=validation_generator,\n",
    "    validation_steps=5)"
   ]
  },
  {
   "cell_type": "code",
   "execution_count": 16,
   "metadata": {},
   "outputs": [],
   "source": [
    "model.save('model.h5')"
   ]
  },
  {
   "cell_type": "code",
   "execution_count": null,
   "metadata": {},
   "outputs": [],
   "source": []
  },
  {
   "cell_type": "code",
   "execution_count": null,
   "metadata": {},
   "outputs": [],
   "source": []
  },
  {
   "cell_type": "code",
   "execution_count": null,
   "metadata": {},
   "outputs": [],
   "source": []
  }
 ],
 "metadata": {
  "kernelspec": {
   "display_name": "Python 3",
   "language": "python",
   "name": "python3"
  },
  "language_info": {
   "codemirror_mode": {
    "name": "ipython",
    "version": 3
   },
   "file_extension": ".py",
   "mimetype": "text/x-python",
   "name": "python",
   "nbconvert_exporter": "python",
   "pygments_lexer": "ipython3",
   "version": "3.7.4"
  }
 },
 "nbformat": 4,
 "nbformat_minor": 2
}
